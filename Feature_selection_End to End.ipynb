{
 "cells": [
  {
   "cell_type": "markdown",
   "id": "99b6cdff",
   "metadata": {},
   "source": [
    "## Feature _ Selection _ EndtoEnd"
   ]
  },
  {
   "cell_type": "code",
   "execution_count": null,
   "id": "f34f550d",
   "metadata": {},
   "outputs": [],
   "source": [
    "s=52712345"
   ]
  },
  {
   "cell_type": "markdown",
   "id": "67429d00",
   "metadata": {},
   "source": [
    "                       April 13, 2024"
   ]
  },
  {
   "cell_type": "markdown",
   "id": "d59c8f19",
   "metadata": {},
   "source": [
    "- Feature Engineering\n",
    "\n",
    "   - Missing value analysis\n",
    "    \n",
    "   - Outlier analysis\n",
    "\n",
    "   - Categorical to Numerical\n",
    "    \n",
    "   - Correlation\n",
    "\n",
    "   - Data scaling"
   ]
  },
  {
   "cell_type": "markdown",
   "id": "3da6a086",
   "metadata": {},
   "source": [
    "- Feature Selection\n",
    "   \n",
    "- we should not provide all the columns for model development\n",
    "\n",
    "- some columns are very important, some columns are not at all important\n",
    "\n",
    "- we need to select the important features so that our model performance will increase\n",
    "\n",
    "**Retrival the important features,selecting an important features is very important step before going to ML**\n",
    "\n",
    "   - Droping the constant features(Regression and Classification)\n",
    "    \n",
    "   - Information gain(Classification)\n",
    "\n",
    "   - p-value(Regression)\n",
    "    \n",
    "   - VIF(Regression)\n",
    "\n",
    "   - Forward selection and Backward selection (Regression and Classification)\n",
    "    \n",
    "   - Correlation with target column(Regression and Classification)\n",
    "\n",
    "**Feature Selection Methods**\n",
    " \n",
    "    1) Variance threshold:\n",
    "        \n",
    "        - based on variable we can decide the data is constant or varying\n",
    "        \n",
    "        - Data is not varying much means,data has unique values\n",
    "        \n",
    "        - For example we have seen in loan dataset,loan term:360\n",
    "            \n",
    "        - python by default will use variance=0, it will drop those features              which are having variance=0\n",
    "        \n",
    "        - Variance threshold is hyper parameter,we can keep threshold as any               value\n",
    "        \n",
    "        - based on internal team discussion\n",
    "        \n",
    "        - we will drop those feature which are having<= threshold value\n",
    "        \n",
    "    2) P-value\n",
    "       \n",
    "        - H0: there is no relation x and y\n",
    "            \n",
    "        - H1: there is relation x and y\n",
    "            \n",
    "        - p<0.05\n",
    "        \n",
    "          - Reject the Null hypothesis: ** Which means include the Variable**\n",
    "                \n",
    "        - p>0.05\n",
    "        \n",
    "          - Not reject the Null hypothesis: **Which means do not include the               variables**\n",
    "                \n",
    "    3) Mutual info classify:\n",
    "        \n",
    "        - KNN and entropy\n",
    "        \n",
    "        - It will give the relation between input and output will pick which are having more relation\n",
    "        \n",
    "        - Input vs Output\n",
    "        \n",
    "            - 1) Entropy\n",
    "            \n",
    "            - 2) KNN\n",
    "            \n",
    "            - 3) R-square: explainability about y based on x\n",
    "                \n",
    "    4) Forward selection and Backward selection \n",
    "    \n",
    "    stats1/chapter/model\u0002selection/#:~:text=The%20forward%20selection%20strategy%20is,measured%20by%20adjusted%20R2).\n",
    "    \n",
    "    **Forward Selection Method**\n",
    "    \n",
    "      - Start with empty set of features\n",
    "        \n",
    "      - Iterate through each features and select the one feature that improves          model performance\n",
    "    \n",
    "      - Continue adding features one by one till we meet our creteria\n",
    "        \n",
    "    **Backward Selection Method**\n",
    "    \n",
    "      - Start with full set of features\n",
    "        \n",
    "      - Iterate through each feature by removing the feature which is having            less impact on the model\n",
    "    \n",
    "     - Continue the process, till your performnace is stable\n",
    "        \n",
    "    - Both Forward selection and Backward selection methods are complex in             nature\n",
    "    \n",
    "          - More time taken,will avoid in general\n",
    "    \n",
    "   5) Variance inflation factor(VIF):\n",
    "     \n",
    "        - VIF will give the analysis of multicollinearity\n",
    "        \n",
    "        - In VIF will find the R-square value of each input feature wrt to other input feature\n",
    "        \n",
    "        - Will keep one features as output and other features are consider as input in Regression equation\n",
    "        \n",
    "        - This will keep on iterate through all feature\n",
    "        \n",
    "        - Every feature behave as input as well as output\n",
    "        \n",
    "        - As we know every regression line give Rsquare value from that value will fine VIF\n",
    "        \n",
    "        - will drop the feature which are having VIF>5 or VIF>10 based on iternal team discussion"
   ]
  },
  {
   "cell_type": "markdown",
   "id": "777adcc8",
   "metadata": {},
   "source": [
    "Method -1 :  Variance threshold method"
   ]
  },
  {
   "cell_type": "markdown",
   "id": "f0206cf7",
   "metadata": {},
   "source": [
    "**Droping constant features**\n",
    "  - if the features or variables having zero variance\n",
    "    \n",
    "  - the feature values through out the data is the same\n",
    " \n",
    "  - you can decide manually what is your desired variance in order to keep the feature  "
   ]
  },
  {
   "cell_type": "code",
   "execution_count": 4,
   "id": "1f02c942",
   "metadata": {},
   "outputs": [
    {
     "data": {
      "text/html": [
       "<div>\n",
       "<style scoped>\n",
       "    .dataframe tbody tr th:only-of-type {\n",
       "        vertical-align: middle;\n",
       "    }\n",
       "\n",
       "    .dataframe tbody tr th {\n",
       "        vertical-align: top;\n",
       "    }\n",
       "\n",
       "    .dataframe thead th {\n",
       "        text-align: right;\n",
       "    }\n",
       "</style>\n",
       "<table border=\"1\" class=\"dataframe\">\n",
       "  <thead>\n",
       "    <tr style=\"text-align: right;\">\n",
       "      <th></th>\n",
       "      <th>A</th>\n",
       "      <th>B</th>\n",
       "      <th>C</th>\n",
       "      <th>D</th>\n",
       "    </tr>\n",
       "  </thead>\n",
       "  <tbody>\n",
       "    <tr>\n",
       "      <th>0</th>\n",
       "      <td>100</td>\n",
       "      <td>1</td>\n",
       "      <td>10</td>\n",
       "      <td>10</td>\n",
       "    </tr>\n",
       "    <tr>\n",
       "      <th>1</th>\n",
       "      <td>200</td>\n",
       "      <td>2</td>\n",
       "      <td>20</td>\n",
       "      <td>10</td>\n",
       "    </tr>\n",
       "    <tr>\n",
       "      <th>2</th>\n",
       "      <td>300</td>\n",
       "      <td>3</td>\n",
       "      <td>30</td>\n",
       "      <td>10</td>\n",
       "    </tr>\n",
       "    <tr>\n",
       "      <th>3</th>\n",
       "      <td>400</td>\n",
       "      <td>4</td>\n",
       "      <td>40</td>\n",
       "      <td>10</td>\n",
       "    </tr>\n",
       "  </tbody>\n",
       "</table>\n",
       "</div>"
      ],
      "text/plain": [
       "     A  B   C   D\n",
       "0  100  1  10  10\n",
       "1  200  2  20  10\n",
       "2  300  3  30  10\n",
       "3  400  4  40  10"
      ]
     },
     "execution_count": 4,
     "metadata": {},
     "output_type": "execute_result"
    }
   ],
   "source": [
    "import pandas as pd\n",
    "dict1={\"A\":[100,200,300,400],\n",
    "      \"B\":[1,2,3,4],\n",
    "      \"C\":[10,20,30,40],\n",
    "      \"D\":[10,10,10,10]\n",
    "      }\n",
    "df=pd.DataFrame(dict1)\n",
    "df"
   ]
  },
  {
   "cell_type": "code",
   "execution_count": 5,
   "id": "3c293755",
   "metadata": {},
   "outputs": [
    {
     "data": {
      "text/html": [
       "<style>#sk-container-id-1 {color: black;}#sk-container-id-1 pre{padding: 0;}#sk-container-id-1 div.sk-toggleable {background-color: white;}#sk-container-id-1 label.sk-toggleable__label {cursor: pointer;display: block;width: 100%;margin-bottom: 0;padding: 0.3em;box-sizing: border-box;text-align: center;}#sk-container-id-1 label.sk-toggleable__label-arrow:before {content: \"▸\";float: left;margin-right: 0.25em;color: #696969;}#sk-container-id-1 label.sk-toggleable__label-arrow:hover:before {color: black;}#sk-container-id-1 div.sk-estimator:hover label.sk-toggleable__label-arrow:before {color: black;}#sk-container-id-1 div.sk-toggleable__content {max-height: 0;max-width: 0;overflow: hidden;text-align: left;background-color: #f0f8ff;}#sk-container-id-1 div.sk-toggleable__content pre {margin: 0.2em;color: black;border-radius: 0.25em;background-color: #f0f8ff;}#sk-container-id-1 input.sk-toggleable__control:checked~div.sk-toggleable__content {max-height: 200px;max-width: 100%;overflow: auto;}#sk-container-id-1 input.sk-toggleable__control:checked~label.sk-toggleable__label-arrow:before {content: \"▾\";}#sk-container-id-1 div.sk-estimator input.sk-toggleable__control:checked~label.sk-toggleable__label {background-color: #d4ebff;}#sk-container-id-1 div.sk-label input.sk-toggleable__control:checked~label.sk-toggleable__label {background-color: #d4ebff;}#sk-container-id-1 input.sk-hidden--visually {border: 0;clip: rect(1px 1px 1px 1px);clip: rect(1px, 1px, 1px, 1px);height: 1px;margin: -1px;overflow: hidden;padding: 0;position: absolute;width: 1px;}#sk-container-id-1 div.sk-estimator {font-family: monospace;background-color: #f0f8ff;border: 1px dotted black;border-radius: 0.25em;box-sizing: border-box;margin-bottom: 0.5em;}#sk-container-id-1 div.sk-estimator:hover {background-color: #d4ebff;}#sk-container-id-1 div.sk-parallel-item::after {content: \"\";width: 100%;border-bottom: 1px solid gray;flex-grow: 1;}#sk-container-id-1 div.sk-label:hover label.sk-toggleable__label {background-color: #d4ebff;}#sk-container-id-1 div.sk-serial::before {content: \"\";position: absolute;border-left: 1px solid gray;box-sizing: border-box;top: 0;bottom: 0;left: 50%;z-index: 0;}#sk-container-id-1 div.sk-serial {display: flex;flex-direction: column;align-items: center;background-color: white;padding-right: 0.2em;padding-left: 0.2em;position: relative;}#sk-container-id-1 div.sk-item {position: relative;z-index: 1;}#sk-container-id-1 div.sk-parallel {display: flex;align-items: stretch;justify-content: center;background-color: white;position: relative;}#sk-container-id-1 div.sk-item::before, #sk-container-id-1 div.sk-parallel-item::before {content: \"\";position: absolute;border-left: 1px solid gray;box-sizing: border-box;top: 0;bottom: 0;left: 50%;z-index: -1;}#sk-container-id-1 div.sk-parallel-item {display: flex;flex-direction: column;z-index: 1;position: relative;background-color: white;}#sk-container-id-1 div.sk-parallel-item:first-child::after {align-self: flex-end;width: 50%;}#sk-container-id-1 div.sk-parallel-item:last-child::after {align-self: flex-start;width: 50%;}#sk-container-id-1 div.sk-parallel-item:only-child::after {width: 0;}#sk-container-id-1 div.sk-dashed-wrapped {border: 1px dashed gray;margin: 0 0.4em 0.5em 0.4em;box-sizing: border-box;padding-bottom: 0.4em;background-color: white;}#sk-container-id-1 div.sk-label label {font-family: monospace;font-weight: bold;display: inline-block;line-height: 1.2em;}#sk-container-id-1 div.sk-label-container {text-align: center;}#sk-container-id-1 div.sk-container {/* jupyter's `normalize.less` sets `[hidden] { display: none; }` but bootstrap.min.css set `[hidden] { display: none !important; }` so we also need the `!important` here to be able to override the default hidden behavior on the sphinx rendered scikit-learn.org. See: https://github.com/scikit-learn/scikit-learn/issues/21755 */display: inline-block !important;position: relative;}#sk-container-id-1 div.sk-text-repr-fallback {display: none;}</style><div id=\"sk-container-id-1\" class=\"sk-top-container\"><div class=\"sk-text-repr-fallback\"><pre>VarianceThreshold(threshold=0)</pre><b>In a Jupyter environment, please rerun this cell to show the HTML representation or trust the notebook. <br />On GitHub, the HTML representation is unable to render, please try loading this page with nbviewer.org.</b></div><div class=\"sk-container\" hidden><div class=\"sk-item\"><div class=\"sk-estimator sk-toggleable\"><input class=\"sk-toggleable__control sk-hidden--visually\" id=\"sk-estimator-id-1\" type=\"checkbox\" checked><label for=\"sk-estimator-id-1\" class=\"sk-toggleable__label sk-toggleable__label-arrow\">VarianceThreshold</label><div class=\"sk-toggleable__content\"><pre>VarianceThreshold(threshold=0)</pre></div></div></div></div></div>"
      ],
      "text/plain": [
       "VarianceThreshold(threshold=0)"
      ]
     },
     "execution_count": 5,
     "metadata": {},
     "output_type": "execute_result"
    }
   ],
   "source": [
    "from sklearn.feature_selection import VarianceThreshold\n",
    "vt=VarianceThreshold(threshold=0)\n",
    "# Threshold variance value\n",
    "# we want to drop the feature based on threshold\n",
    "vt.fit(df)"
   ]
  },
  {
   "cell_type": "code",
   "execution_count": 6,
   "id": "18b72eac",
   "metadata": {},
   "outputs": [
    {
     "data": {
      "text/plain": [
       "['__abstractmethods__',\n",
       " '__annotations__',\n",
       " '__class__',\n",
       " '__delattr__',\n",
       " '__dict__',\n",
       " '__dir__',\n",
       " '__doc__',\n",
       " '__eq__',\n",
       " '__format__',\n",
       " '__ge__',\n",
       " '__getattribute__',\n",
       " '__getstate__',\n",
       " '__gt__',\n",
       " '__hash__',\n",
       " '__init__',\n",
       " '__init_subclass__',\n",
       " '__le__',\n",
       " '__lt__',\n",
       " '__module__',\n",
       " '__ne__',\n",
       " '__new__',\n",
       " '__reduce__',\n",
       " '__reduce_ex__',\n",
       " '__repr__',\n",
       " '__setattr__',\n",
       " '__setstate__',\n",
       " '__sizeof__',\n",
       " '__sklearn_clone__',\n",
       " '__str__',\n",
       " '__subclasshook__',\n",
       " '__weakref__',\n",
       " '_abc_impl',\n",
       " '_build_request_for_signature',\n",
       " '_check_feature_names',\n",
       " '_check_n_features',\n",
       " '_get_default_requests',\n",
       " '_get_metadata_request',\n",
       " '_get_param_names',\n",
       " '_get_support_mask',\n",
       " '_get_tags',\n",
       " '_more_tags',\n",
       " '_parameter_constraints',\n",
       " '_repr_html_',\n",
       " '_repr_html_inner',\n",
       " '_repr_mimebundle_',\n",
       " '_sklearn_auto_wrap_output_keys',\n",
       " '_transform',\n",
       " '_validate_data',\n",
       " '_validate_params',\n",
       " 'feature_names_in_',\n",
       " 'fit',\n",
       " 'fit_transform',\n",
       " 'get_feature_names_out',\n",
       " 'get_metadata_routing',\n",
       " 'get_params',\n",
       " 'get_support',\n",
       " 'inverse_transform',\n",
       " 'n_features_in_',\n",
       " 'set_output',\n",
       " 'set_params',\n",
       " 'threshold',\n",
       " 'transform',\n",
       " 'variances_']"
      ]
     },
     "execution_count": 6,
     "metadata": {},
     "output_type": "execute_result"
    }
   ],
   "source": [
    "dir(vt)"
   ]
  },
  {
   "cell_type": "code",
   "execution_count": 7,
   "id": "a8417314",
   "metadata": {},
   "outputs": [
    {
     "data": {
      "text/plain": [
       "array([300.  ,   1.25,  30.  ,   0.  ])"
      ]
     },
     "execution_count": 7,
     "metadata": {},
     "output_type": "execute_result"
    }
   ],
   "source": [
    "vt.variances_\n",
    "# 300 is first column variance(T)\n",
    "# 1.25 is second column varinace(T)\n",
    "# 30 is column variances (T)\n",
    "# 0 is fourth column variance(F)"
   ]
  },
  {
   "cell_type": "code",
   "execution_count": 8,
   "id": "a4e21c65",
   "metadata": {},
   "outputs": [
    {
     "data": {
      "text/plain": [
       "array([ True,  True,  True, False])"
      ]
     },
     "execution_count": 8,
     "metadata": {},
     "output_type": "execute_result"
    }
   ],
   "source": [
    "vt.get_support()"
   ]
  },
  {
   "cell_type": "code",
   "execution_count": 9,
   "id": "85c7e3c1",
   "metadata": {},
   "outputs": [
    {
     "data": {
      "text/plain": [
       "{'threshold': 0}"
      ]
     },
     "execution_count": 9,
     "metadata": {},
     "output_type": "execute_result"
    }
   ],
   "source": [
    "vt.get_params()\n",
    "# hyper parameter\n",
    "# that we providing imside the function"
   ]
  },
  {
   "cell_type": "code",
   "execution_count": 10,
   "id": "7943c90d",
   "metadata": {},
   "outputs": [
    {
     "data": {
      "text/plain": [
       "0"
      ]
     },
     "execution_count": 10,
     "metadata": {},
     "output_type": "execute_result"
    }
   ],
   "source": [
    "vt.threshold"
   ]
  },
  {
   "cell_type": "code",
   "execution_count": 11,
   "id": "0e74daeb",
   "metadata": {},
   "outputs": [
    {
     "data": {
      "text/html": [
       "<div>\n",
       "<style scoped>\n",
       "    .dataframe tbody tr th:only-of-type {\n",
       "        vertical-align: middle;\n",
       "    }\n",
       "\n",
       "    .dataframe tbody tr th {\n",
       "        vertical-align: top;\n",
       "    }\n",
       "\n",
       "    .dataframe thead th {\n",
       "        text-align: right;\n",
       "    }\n",
       "</style>\n",
       "<table border=\"1\" class=\"dataframe\">\n",
       "  <thead>\n",
       "    <tr style=\"text-align: right;\">\n",
       "      <th></th>\n",
       "      <th>A</th>\n",
       "      <th>B</th>\n",
       "      <th>C</th>\n",
       "    </tr>\n",
       "  </thead>\n",
       "  <tbody>\n",
       "    <tr>\n",
       "      <th>0</th>\n",
       "      <td>100</td>\n",
       "      <td>1</td>\n",
       "      <td>10</td>\n",
       "    </tr>\n",
       "    <tr>\n",
       "      <th>1</th>\n",
       "      <td>200</td>\n",
       "      <td>2</td>\n",
       "      <td>20</td>\n",
       "    </tr>\n",
       "    <tr>\n",
       "      <th>2</th>\n",
       "      <td>300</td>\n",
       "      <td>3</td>\n",
       "      <td>30</td>\n",
       "    </tr>\n",
       "    <tr>\n",
       "      <th>3</th>\n",
       "      <td>400</td>\n",
       "      <td>4</td>\n",
       "      <td>40</td>\n",
       "    </tr>\n",
       "  </tbody>\n",
       "</table>\n",
       "</div>"
      ],
      "text/plain": [
       "     A  B   C\n",
       "0  100  1  10\n",
       "1  200  2  20\n",
       "2  300  3  30\n",
       "3  400  4  40"
      ]
     },
     "execution_count": 11,
     "metadata": {},
     "output_type": "execute_result"
    }
   ],
   "source": [
    "cols=vt.get_feature_names_out()\n",
    "# the above syntax gives the column names\n",
    "# These feature only we want include\n",
    "df[cols]"
   ]
  },
  {
   "cell_type": "code",
   "execution_count": 12,
   "id": "fc9dd662",
   "metadata": {},
   "outputs": [],
   "source": [
    "## Apply on wine dataset\n",
    "## Read the data\n",
    "## Keep the threshold : 0,0.1\n",
    "## Get the new data"
   ]
  },
  {
   "cell_type": "code",
   "execution_count": 13,
   "id": "5ae3f4dc",
   "metadata": {},
   "outputs": [
    {
     "data": {
      "text/html": [
       "<div>\n",
       "<style scoped>\n",
       "    .dataframe tbody tr th:only-of-type {\n",
       "        vertical-align: middle;\n",
       "    }\n",
       "\n",
       "    .dataframe tbody tr th {\n",
       "        vertical-align: top;\n",
       "    }\n",
       "\n",
       "    .dataframe thead th {\n",
       "        text-align: right;\n",
       "    }\n",
       "</style>\n",
       "<table border=\"1\" class=\"dataframe\">\n",
       "  <thead>\n",
       "    <tr style=\"text-align: right;\">\n",
       "      <th></th>\n",
       "      <th>fixed acidity</th>\n",
       "      <th>volatile acidity</th>\n",
       "      <th>citric acid</th>\n",
       "      <th>residual sugar</th>\n",
       "      <th>chlorides</th>\n",
       "      <th>free sulfur dioxide</th>\n",
       "      <th>total sulfur dioxide</th>\n",
       "      <th>density</th>\n",
       "      <th>pH</th>\n",
       "      <th>sulphates</th>\n",
       "      <th>alcohol</th>\n",
       "    </tr>\n",
       "  </thead>\n",
       "  <tbody>\n",
       "    <tr>\n",
       "      <th>0</th>\n",
       "      <td>7.4</td>\n",
       "      <td>0.700</td>\n",
       "      <td>0.00</td>\n",
       "      <td>1.9</td>\n",
       "      <td>0.076</td>\n",
       "      <td>11.0</td>\n",
       "      <td>34.0</td>\n",
       "      <td>0.99780</td>\n",
       "      <td>3.51</td>\n",
       "      <td>0.56</td>\n",
       "      <td>9.4</td>\n",
       "    </tr>\n",
       "    <tr>\n",
       "      <th>1</th>\n",
       "      <td>7.8</td>\n",
       "      <td>0.880</td>\n",
       "      <td>0.00</td>\n",
       "      <td>2.6</td>\n",
       "      <td>0.098</td>\n",
       "      <td>25.0</td>\n",
       "      <td>67.0</td>\n",
       "      <td>0.99680</td>\n",
       "      <td>3.20</td>\n",
       "      <td>0.68</td>\n",
       "      <td>9.8</td>\n",
       "    </tr>\n",
       "    <tr>\n",
       "      <th>2</th>\n",
       "      <td>7.8</td>\n",
       "      <td>0.760</td>\n",
       "      <td>0.04</td>\n",
       "      <td>2.3</td>\n",
       "      <td>0.092</td>\n",
       "      <td>15.0</td>\n",
       "      <td>54.0</td>\n",
       "      <td>0.99700</td>\n",
       "      <td>3.26</td>\n",
       "      <td>0.65</td>\n",
       "      <td>9.8</td>\n",
       "    </tr>\n",
       "    <tr>\n",
       "      <th>3</th>\n",
       "      <td>11.2</td>\n",
       "      <td>0.280</td>\n",
       "      <td>0.56</td>\n",
       "      <td>1.9</td>\n",
       "      <td>0.075</td>\n",
       "      <td>17.0</td>\n",
       "      <td>60.0</td>\n",
       "      <td>0.99800</td>\n",
       "      <td>3.16</td>\n",
       "      <td>0.58</td>\n",
       "      <td>9.8</td>\n",
       "    </tr>\n",
       "    <tr>\n",
       "      <th>4</th>\n",
       "      <td>7.4</td>\n",
       "      <td>0.700</td>\n",
       "      <td>0.00</td>\n",
       "      <td>1.9</td>\n",
       "      <td>0.076</td>\n",
       "      <td>11.0</td>\n",
       "      <td>34.0</td>\n",
       "      <td>0.99780</td>\n",
       "      <td>3.51</td>\n",
       "      <td>0.56</td>\n",
       "      <td>9.4</td>\n",
       "    </tr>\n",
       "    <tr>\n",
       "      <th>...</th>\n",
       "      <td>...</td>\n",
       "      <td>...</td>\n",
       "      <td>...</td>\n",
       "      <td>...</td>\n",
       "      <td>...</td>\n",
       "      <td>...</td>\n",
       "      <td>...</td>\n",
       "      <td>...</td>\n",
       "      <td>...</td>\n",
       "      <td>...</td>\n",
       "      <td>...</td>\n",
       "    </tr>\n",
       "    <tr>\n",
       "      <th>1594</th>\n",
       "      <td>6.2</td>\n",
       "      <td>0.600</td>\n",
       "      <td>0.08</td>\n",
       "      <td>2.0</td>\n",
       "      <td>0.090</td>\n",
       "      <td>32.0</td>\n",
       "      <td>44.0</td>\n",
       "      <td>0.99490</td>\n",
       "      <td>3.45</td>\n",
       "      <td>0.58</td>\n",
       "      <td>10.5</td>\n",
       "    </tr>\n",
       "    <tr>\n",
       "      <th>1595</th>\n",
       "      <td>5.9</td>\n",
       "      <td>0.550</td>\n",
       "      <td>0.10</td>\n",
       "      <td>2.2</td>\n",
       "      <td>0.062</td>\n",
       "      <td>39.0</td>\n",
       "      <td>51.0</td>\n",
       "      <td>0.99512</td>\n",
       "      <td>3.52</td>\n",
       "      <td>0.76</td>\n",
       "      <td>11.2</td>\n",
       "    </tr>\n",
       "    <tr>\n",
       "      <th>1596</th>\n",
       "      <td>6.3</td>\n",
       "      <td>0.510</td>\n",
       "      <td>0.13</td>\n",
       "      <td>2.3</td>\n",
       "      <td>0.076</td>\n",
       "      <td>29.0</td>\n",
       "      <td>40.0</td>\n",
       "      <td>0.99574</td>\n",
       "      <td>3.42</td>\n",
       "      <td>0.75</td>\n",
       "      <td>11.0</td>\n",
       "    </tr>\n",
       "    <tr>\n",
       "      <th>1597</th>\n",
       "      <td>5.9</td>\n",
       "      <td>0.645</td>\n",
       "      <td>0.12</td>\n",
       "      <td>2.0</td>\n",
       "      <td>0.075</td>\n",
       "      <td>32.0</td>\n",
       "      <td>44.0</td>\n",
       "      <td>0.99547</td>\n",
       "      <td>3.57</td>\n",
       "      <td>0.71</td>\n",
       "      <td>10.2</td>\n",
       "    </tr>\n",
       "    <tr>\n",
       "      <th>1598</th>\n",
       "      <td>6.0</td>\n",
       "      <td>0.310</td>\n",
       "      <td>0.47</td>\n",
       "      <td>3.6</td>\n",
       "      <td>0.067</td>\n",
       "      <td>18.0</td>\n",
       "      <td>42.0</td>\n",
       "      <td>0.99549</td>\n",
       "      <td>3.39</td>\n",
       "      <td>0.66</td>\n",
       "      <td>11.0</td>\n",
       "    </tr>\n",
       "  </tbody>\n",
       "</table>\n",
       "<p>1599 rows × 11 columns</p>\n",
       "</div>"
      ],
      "text/plain": [
       "      fixed acidity  volatile acidity  citric acid  residual sugar  chlorides  \\\n",
       "0               7.4             0.700         0.00             1.9      0.076   \n",
       "1               7.8             0.880         0.00             2.6      0.098   \n",
       "2               7.8             0.760         0.04             2.3      0.092   \n",
       "3              11.2             0.280         0.56             1.9      0.075   \n",
       "4               7.4             0.700         0.00             1.9      0.076   \n",
       "...             ...               ...          ...             ...        ...   \n",
       "1594            6.2             0.600         0.08             2.0      0.090   \n",
       "1595            5.9             0.550         0.10             2.2      0.062   \n",
       "1596            6.3             0.510         0.13             2.3      0.076   \n",
       "1597            5.9             0.645         0.12             2.0      0.075   \n",
       "1598            6.0             0.310         0.47             3.6      0.067   \n",
       "\n",
       "      free sulfur dioxide  total sulfur dioxide  density    pH  sulphates  \\\n",
       "0                    11.0                  34.0  0.99780  3.51       0.56   \n",
       "1                    25.0                  67.0  0.99680  3.20       0.68   \n",
       "2                    15.0                  54.0  0.99700  3.26       0.65   \n",
       "3                    17.0                  60.0  0.99800  3.16       0.58   \n",
       "4                    11.0                  34.0  0.99780  3.51       0.56   \n",
       "...                   ...                   ...      ...   ...        ...   \n",
       "1594                 32.0                  44.0  0.99490  3.45       0.58   \n",
       "1595                 39.0                  51.0  0.99512  3.52       0.76   \n",
       "1596                 29.0                  40.0  0.99574  3.42       0.75   \n",
       "1597                 32.0                  44.0  0.99547  3.57       0.71   \n",
       "1598                 18.0                  42.0  0.99549  3.39       0.66   \n",
       "\n",
       "      alcohol  \n",
       "0         9.4  \n",
       "1         9.8  \n",
       "2         9.8  \n",
       "3         9.8  \n",
       "4         9.4  \n",
       "...       ...  \n",
       "1594     10.5  \n",
       "1595     11.2  \n",
       "1596     11.0  \n",
       "1597     10.2  \n",
       "1598     11.0  \n",
       "\n",
       "[1599 rows x 11 columns]"
      ]
     },
     "execution_count": 13,
     "metadata": {},
     "output_type": "execute_result"
    }
   ],
   "source": [
    "import pandas as pd\n",
    "path=r'C:\\Users\\91851\\OneDrive\\data science\\Data Files\\winequality_red.csv'\n",
    "df=pd.read_csv(path)\n",
    "\n",
    "from sklearn.feature_selection import VarianceThreshold\n",
    "vt=VarianceThreshold(threshold=0)\n",
    "## make sure before fitting the dataframe , do not include output column\n",
    "\n",
    "x=df.drop('quality',axis=1)\n",
    "# x is self a data frame\n",
    "vt.fit(x)\n",
    "vt.variances_\n",
    "vt.get_support()\n",
    "cols=vt.get_feature_names_out()\n",
    "x[cols]"
   ]
  },
  {
   "cell_type": "markdown",
   "id": "748c01d6",
   "metadata": {},
   "source": [
    "$Method-2$"
   ]
  },
  {
   "cell_type": "markdown",
   "id": "f588f972",
   "metadata": {},
   "source": [
    "**Information gain**"
   ]
  },
  {
   "cell_type": "markdown",
   "id": "087aa5a1",
   "metadata": {},
   "source": [
    "mutual info classify"
   ]
  },
  {
   "cell_type": "markdown",
   "id": "59c3dcde",
   "metadata": {},
   "source": [
    "- It is value estimating how much relationship/how much information about target variable\n",
    "\n",
    "- 0 mean both variables are independent\n",
    "\n",
    "- Here will use entropy or KNN method"
   ]
  },
  {
   "cell_type": "code",
   "execution_count": 14,
   "id": "0a707805",
   "metadata": {},
   "outputs": [],
   "source": [
    "import pandas as pd\n",
    "\n",
    "# Read the data \n",
    "path=pd.read_csv(r'C:\\Users\\91851\\OneDrive\\data science\\Data Files\\winequality_red.csv')\n",
    "\n",
    "x=path.drop('quality',axis=1)\n",
    "y=path['quality']"
   ]
  },
  {
   "cell_type": "code",
   "execution_count": 15,
   "id": "024b869b",
   "metadata": {},
   "outputs": [
    {
     "data": {
      "text/plain": [
       "array([0.05900509, 0.10598961, 0.06307697, 0.00248588, 0.02821486,\n",
       "       0.02147172, 0.09477148, 0.0873005 , 0.01844475, 0.10786872,\n",
       "       0.182843  ])"
      ]
     },
     "execution_count": 15,
     "metadata": {},
     "output_type": "execute_result"
    }
   ],
   "source": [
    "from sklearn.feature_selection import mutual_info_classif\n",
    "MI=mutual_info_classif(x,y)\n",
    "MI"
   ]
  },
  {
   "cell_type": "code",
   "execution_count": 16,
   "id": "8182c02a",
   "metadata": {},
   "outputs": [
    {
     "data": {
      "text/html": [
       "<div>\n",
       "<style scoped>\n",
       "    .dataframe tbody tr th:only-of-type {\n",
       "        vertical-align: middle;\n",
       "    }\n",
       "\n",
       "    .dataframe tbody tr th {\n",
       "        vertical-align: top;\n",
       "    }\n",
       "\n",
       "    .dataframe thead th {\n",
       "        text-align: right;\n",
       "    }\n",
       "</style>\n",
       "<table border=\"1\" class=\"dataframe\">\n",
       "  <thead>\n",
       "    <tr style=\"text-align: right;\">\n",
       "      <th></th>\n",
       "      <th>Information gain</th>\n",
       "    </tr>\n",
       "  </thead>\n",
       "  <tbody>\n",
       "    <tr>\n",
       "      <th>alcohol</th>\n",
       "      <td>0.182843</td>\n",
       "    </tr>\n",
       "    <tr>\n",
       "      <th>sulphates</th>\n",
       "      <td>0.107869</td>\n",
       "    </tr>\n",
       "    <tr>\n",
       "      <th>volatile acidity</th>\n",
       "      <td>0.105990</td>\n",
       "    </tr>\n",
       "    <tr>\n",
       "      <th>total sulfur dioxide</th>\n",
       "      <td>0.094771</td>\n",
       "    </tr>\n",
       "    <tr>\n",
       "      <th>density</th>\n",
       "      <td>0.087300</td>\n",
       "    </tr>\n",
       "    <tr>\n",
       "      <th>citric acid</th>\n",
       "      <td>0.063077</td>\n",
       "    </tr>\n",
       "    <tr>\n",
       "      <th>fixed acidity</th>\n",
       "      <td>0.059005</td>\n",
       "    </tr>\n",
       "    <tr>\n",
       "      <th>chlorides</th>\n",
       "      <td>0.028215</td>\n",
       "    </tr>\n",
       "    <tr>\n",
       "      <th>free sulfur dioxide</th>\n",
       "      <td>0.021472</td>\n",
       "    </tr>\n",
       "    <tr>\n",
       "      <th>pH</th>\n",
       "      <td>0.018445</td>\n",
       "    </tr>\n",
       "    <tr>\n",
       "      <th>residual sugar</th>\n",
       "      <td>0.002486</td>\n",
       "    </tr>\n",
       "  </tbody>\n",
       "</table>\n",
       "</div>"
      ],
      "text/plain": [
       "                      Information gain\n",
       "alcohol                       0.182843\n",
       "sulphates                     0.107869\n",
       "volatile acidity              0.105990\n",
       "total sulfur dioxide          0.094771\n",
       "density                       0.087300\n",
       "citric acid                   0.063077\n",
       "fixed acidity                 0.059005\n",
       "chlorides                     0.028215\n",
       "free sulfur dioxide           0.021472\n",
       "pH                            0.018445\n",
       "residual sugar                0.002486"
      ]
     },
     "execution_count": 16,
     "metadata": {},
     "output_type": "execute_result"
    }
   ],
   "source": [
    "d=pd.DataFrame(MI,\n",
    "              columns=['Information gain'],\n",
    "              index=x.columns)\n",
    "d.sort_values('Information gain',ascending=False)\n",
    "\n",
    "# we need to select manualy\n",
    "# how about python will provide top 5 or top 10 or top k\n",
    "# SelectKBest"
   ]
  },
  {
   "cell_type": "code",
   "execution_count": 17,
   "id": "50b414f7",
   "metadata": {},
   "outputs": [
    {
     "data": {
      "text/plain": [
       "fixed acidity           0.059005\n",
       "volatile acidity        0.105990\n",
       "citric acid             0.063077\n",
       "residual sugar          0.002486\n",
       "chlorides               0.028215\n",
       "free sulfur dioxide     0.021472\n",
       "total sulfur dioxide    0.094771\n",
       "density                 0.087300\n",
       "pH                      0.018445\n",
       "sulphates               0.107869\n",
       "alcohol                 0.182843\n",
       "dtype: float64"
      ]
     },
     "execution_count": 17,
     "metadata": {},
     "output_type": "execute_result"
    }
   ],
   "source": [
    "# Two methods almost enough\n",
    "# constant features ==== you need to remove\n",
    "# mutual information\n",
    "val=pd.Series(MI)   # index with series \n",
    "val.index=x.columns  # column with series\n",
    "val"
   ]
  },
  {
   "cell_type": "code",
   "execution_count": 18,
   "id": "2ee24226",
   "metadata": {},
   "outputs": [
    {
     "data": {
      "text/plain": [
       "residual sugar          0.002486\n",
       "pH                      0.018445\n",
       "free sulfur dioxide     0.021472\n",
       "chlorides               0.028215\n",
       "fixed acidity           0.059005\n",
       "citric acid             0.063077\n",
       "density                 0.087300\n",
       "total sulfur dioxide    0.094771\n",
       "volatile acidity        0.105990\n",
       "sulphates               0.107869\n",
       "alcohol                 0.182843\n",
       "dtype: float64"
      ]
     },
     "execution_count": 18,
     "metadata": {},
     "output_type": "execute_result"
    }
   ],
   "source": [
    "val.sort_values(ascending=True)"
   ]
  },
  {
   "cell_type": "code",
   "execution_count": 19,
   "id": "2d124f5e",
   "metadata": {},
   "outputs": [
    {
     "data": {
      "text/plain": [
       "<Axes: >"
      ]
     },
     "execution_count": 19,
     "metadata": {},
     "output_type": "execute_result"
    },
    {
     "data": {
      "image/png": "[encoded data removed]",
      "text/plain": [
       "<Figure size 640x480 with 1 Axes>"
      ]
     },
     "metadata": {},
     "output_type": "display_data"
    }
   ],
   "source": [
    "val=pd.Series(MI)\n",
    "val.sort_values(ascending=True).plot(kind='bar')"
   ]
  },
  {
   "cell_type": "markdown",
   "id": "0c745e91",
   "metadata": {},
   "source": [
    "is which suitable for both classification and regression sir mutual info  \n",
    "\n",
    "at which step will do these feature selection"
   ]
  },
  {
   "cell_type": "markdown",
   "id": "9b1f5adc",
   "metadata": {},
   "source": [
    "why we are splitting: x and y"
   ]
  },
  {
   "cell_type": "markdown",
   "id": "143c90b7",
   "metadata": {},
   "source": [
    "python code will allow x and y sepeartely\n",
    "\n",
    "thats why we are splitting\n",
    "\n",
    "onces we extract the important features,those fesatures used to develop a model"
   ]
  },
  {
   "cell_type": "markdown",
   "id": "da45a60e",
   "metadata": {},
   "source": [
    "$Select Kbest$"
   ]
  },
  {
   "cell_type": "code",
   "execution_count": 20,
   "id": "714bbc22",
   "metadata": {},
   "outputs": [
    {
     "data": {
      "text/html": [
       "<div>\n",
       "<style scoped>\n",
       "    .dataframe tbody tr th:only-of-type {\n",
       "        vertical-align: middle;\n",
       "    }\n",
       "\n",
       "    .dataframe tbody tr th {\n",
       "        vertical-align: top;\n",
       "    }\n",
       "\n",
       "    .dataframe thead th {\n",
       "        text-align: right;\n",
       "    }\n",
       "</style>\n",
       "<table border=\"1\" class=\"dataframe\">\n",
       "  <thead>\n",
       "    <tr style=\"text-align: right;\">\n",
       "      <th></th>\n",
       "      <th>fixed acidity</th>\n",
       "      <th>volatile acidity</th>\n",
       "      <th>citric acid</th>\n",
       "      <th>residual sugar</th>\n",
       "      <th>chlorides</th>\n",
       "      <th>free sulfur dioxide</th>\n",
       "      <th>total sulfur dioxide</th>\n",
       "      <th>density</th>\n",
       "      <th>pH</th>\n",
       "      <th>sulphates</th>\n",
       "      <th>alcohol</th>\n",
       "      <th>quality</th>\n",
       "    </tr>\n",
       "  </thead>\n",
       "  <tbody>\n",
       "    <tr>\n",
       "      <th>0</th>\n",
       "      <td>7.4</td>\n",
       "      <td>0.70</td>\n",
       "      <td>0.00</td>\n",
       "      <td>1.9</td>\n",
       "      <td>0.076</td>\n",
       "      <td>11.0</td>\n",
       "      <td>34.0</td>\n",
       "      <td>0.9978</td>\n",
       "      <td>3.51</td>\n",
       "      <td>0.56</td>\n",
       "      <td>9.4</td>\n",
       "      <td>5</td>\n",
       "    </tr>\n",
       "    <tr>\n",
       "      <th>1</th>\n",
       "      <td>7.8</td>\n",
       "      <td>0.88</td>\n",
       "      <td>0.00</td>\n",
       "      <td>2.6</td>\n",
       "      <td>0.098</td>\n",
       "      <td>25.0</td>\n",
       "      <td>67.0</td>\n",
       "      <td>0.9968</td>\n",
       "      <td>3.20</td>\n",
       "      <td>0.68</td>\n",
       "      <td>9.8</td>\n",
       "      <td>5</td>\n",
       "    </tr>\n",
       "    <tr>\n",
       "      <th>2</th>\n",
       "      <td>7.8</td>\n",
       "      <td>0.76</td>\n",
       "      <td>0.04</td>\n",
       "      <td>2.3</td>\n",
       "      <td>0.092</td>\n",
       "      <td>15.0</td>\n",
       "      <td>54.0</td>\n",
       "      <td>0.9970</td>\n",
       "      <td>3.26</td>\n",
       "      <td>0.65</td>\n",
       "      <td>9.8</td>\n",
       "      <td>5</td>\n",
       "    </tr>\n",
       "    <tr>\n",
       "      <th>3</th>\n",
       "      <td>11.2</td>\n",
       "      <td>0.28</td>\n",
       "      <td>0.56</td>\n",
       "      <td>1.9</td>\n",
       "      <td>0.075</td>\n",
       "      <td>17.0</td>\n",
       "      <td>60.0</td>\n",
       "      <td>0.9980</td>\n",
       "      <td>3.16</td>\n",
       "      <td>0.58</td>\n",
       "      <td>9.8</td>\n",
       "      <td>6</td>\n",
       "    </tr>\n",
       "    <tr>\n",
       "      <th>4</th>\n",
       "      <td>7.4</td>\n",
       "      <td>0.70</td>\n",
       "      <td>0.00</td>\n",
       "      <td>1.9</td>\n",
       "      <td>0.076</td>\n",
       "      <td>11.0</td>\n",
       "      <td>34.0</td>\n",
       "      <td>0.9978</td>\n",
       "      <td>3.51</td>\n",
       "      <td>0.56</td>\n",
       "      <td>9.4</td>\n",
       "      <td>5</td>\n",
       "    </tr>\n",
       "  </tbody>\n",
       "</table>\n",
       "</div>"
      ],
      "text/plain": [
       "   fixed acidity  volatile acidity  citric acid  residual sugar  chlorides  \\\n",
       "0            7.4              0.70         0.00             1.9      0.076   \n",
       "1            7.8              0.88         0.00             2.6      0.098   \n",
       "2            7.8              0.76         0.04             2.3      0.092   \n",
       "3           11.2              0.28         0.56             1.9      0.075   \n",
       "4            7.4              0.70         0.00             1.9      0.076   \n",
       "\n",
       "   free sulfur dioxide  total sulfur dioxide  density    pH  sulphates  \\\n",
       "0                 11.0                  34.0   0.9978  3.51       0.56   \n",
       "1                 25.0                  67.0   0.9968  3.20       0.68   \n",
       "2                 15.0                  54.0   0.9970  3.26       0.65   \n",
       "3                 17.0                  60.0   0.9980  3.16       0.58   \n",
       "4                 11.0                  34.0   0.9978  3.51       0.56   \n",
       "\n",
       "   alcohol  quality  \n",
       "0      9.4        5  \n",
       "1      9.8        5  \n",
       "2      9.8        5  \n",
       "3      9.8        6  \n",
       "4      9.4        5  "
      ]
     },
     "execution_count": 20,
     "metadata": {},
     "output_type": "execute_result"
    }
   ],
   "source": [
    "path=pd.read_csv(r'C:\\Users\\91851\\OneDrive\\data science\\Data Files\\winequality_red.csv')\n",
    "\n",
    "path.head()"
   ]
  },
  {
   "cell_type": "code",
   "execution_count": 21,
   "id": "dfb5ac2e",
   "metadata": {},
   "outputs": [],
   "source": [
    "from sklearn.feature_selection import SelectKBest,mutual_info_classif\n",
    "import pandas as pd\n",
    "\n",
    "#Read the data\n",
    "path=pd.read_csv(r'C:\\Users\\91851\\OneDrive\\data science\\Data Files\\winequality_red.csv')\n",
    "\n",
    "# Seperate input and target features\n",
    "x=path.drop('quality',axis=1)\n",
    "y=path['quality']\n",
    "\n",
    "# Assume that you did not done mutual info classif\n",
    "top_5=SelectKBest(mutual_info_classif,k=5)\n",
    "val=top_5.fit(x,y)"
   ]
  },
  {
   "cell_type": "code",
   "execution_count": 22,
   "id": "78f99a62",
   "metadata": {},
   "outputs": [
    {
     "data": {
      "text/plain": [
       "array([False,  True, False, False, False, False,  True,  True, False,\n",
       "        True,  True])"
      ]
     },
     "execution_count": 22,
     "metadata": {},
     "output_type": "execute_result"
    }
   ],
   "source": [
    "val.get_support()"
   ]
  },
  {
   "cell_type": "code",
   "execution_count": 23,
   "id": "b109fce9",
   "metadata": {},
   "outputs": [
    {
     "data": {
      "text/plain": [
       "array(['volatile acidity', 'total sulfur dioxide', 'density', 'sulphates',\n",
       "       'alcohol'], dtype=object)"
      ]
     },
     "execution_count": 23,
     "metadata": {},
     "output_type": "execute_result"
    }
   ],
   "source": [
    "val.get_feature_names_out()"
   ]
  },
  {
   "cell_type": "code",
   "execution_count": 24,
   "id": "0a4c3da1",
   "metadata": {},
   "outputs": [
    {
     "data": {
      "text/plain": [
       "{'k': 5,\n",
       " 'score_func': <function sklearn.feature_selection._mutual_info.mutual_info_classif(X, y, *, discrete_features='auto', n_neighbors=3, copy=True, random_state=None)>}"
      ]
     },
     "execution_count": 24,
     "metadata": {},
     "output_type": "execute_result"
    }
   ],
   "source": [
    "val.get_params()"
   ]
  },
  {
   "cell_type": "code",
   "execution_count": 25,
   "id": "ff28918d",
   "metadata": {},
   "outputs": [
    {
     "data": {
      "text/plain": [
       "array([0.05605426, 0.12111045, 0.05076091, 0.01126236, 0.0333379 ,\n",
       "       0.01599474, 0.0808317 , 0.0879355 , 0.03136667, 0.09659977,\n",
       "       0.17463572])"
      ]
     },
     "execution_count": 25,
     "metadata": {},
     "output_type": "execute_result"
    }
   ],
   "source": [
    "val.scores_"
   ]
  },
  {
   "cell_type": "markdown",
   "id": "edd3c8a8",
   "metadata": {},
   "source": [
    "**Method-3**"
   ]
  },
  {
   "cell_type": "markdown",
   "id": "d9a67bae",
   "metadata": {},
   "source": [
    "**P-value**"
   ]
  },
  {
   "cell_type": "markdown",
   "id": "53b73b08",
   "metadata": {},
   "source": [
    "we can develop Linear regression model using two packages\n",
    "  - Sklearn\n",
    "      - Have linear model\n",
    "      - It gives intercept,coeff,MSE,Rsquare etc\n",
    "      - But it did not give the p-value\n",
    "  - stats\n",
    "      - Have OLS method\n",
    "      - It gives intercept,coeff,Rsquare also p-value table\n",
    "      - We can select important features using p-value"
   ]
  },
  {
   "cell_type": "code",
   "execution_count": 26,
   "id": "5d8a9bea",
   "metadata": {},
   "outputs": [
    {
     "data": {
      "text/html": [
       "<table class=\"simpletable\">\n",
       "<caption>OLS Regression Results</caption>\n",
       "<tr>\n",
       "  <th>Dep. Variable:</th>         <td>quality</td>     <th>  R-squared (uncentered):</th>      <td>   0.987</td>\n",
       "</tr>\n",
       "<tr>\n",
       "  <th>Model:</th>                   <td>OLS</td>       <th>  Adj. R-squared (uncentered):</th> <td>   0.987</td>\n",
       "</tr>\n",
       "<tr>\n",
       "  <th>Method:</th>             <td>Least Squares</td>  <th>  F-statistic:       </th>          <td>   7512.</td>\n",
       "</tr>\n",
       "<tr>\n",
       "  <th>Date:</th>             <td>Sun, 14 Apr 2024</td> <th>  Prob (F-statistic):</th>           <td>  0.00</td> \n",
       "</tr>\n",
       "<tr>\n",
       "  <th>Time:</th>                 <td>16:51:00</td>     <th>  Log-Likelihood:    </th>          <td> -1115.2</td>\n",
       "</tr>\n",
       "<tr>\n",
       "  <th>No. Observations:</th>      <td>  1119</td>      <th>  AIC:               </th>          <td>   2252.</td>\n",
       "</tr>\n",
       "<tr>\n",
       "  <th>Df Residuals:</th>          <td>  1108</td>      <th>  BIC:               </th>          <td>   2308.</td>\n",
       "</tr>\n",
       "<tr>\n",
       "  <th>Df Model:</th>              <td>    11</td>      <th>                     </th>              <td> </td>   \n",
       "</tr>\n",
       "<tr>\n",
       "  <th>Covariance Type:</th>      <td>nonrobust</td>    <th>                     </th>              <td> </td>   \n",
       "</tr>\n",
       "</table>\n",
       "<table class=\"simpletable\">\n",
       "<tr>\n",
       "            <td></td>              <th>coef</th>     <th>std err</th>      <th>t</th>      <th>P>|t|</th>  <th>[0.025</th>    <th>0.975]</th>  \n",
       "</tr>\n",
       "<tr>\n",
       "  <th>fixed acidity</th>        <td>    0.0133</td> <td>    0.020</td> <td>    0.664</td> <td> 0.507</td> <td>   -0.026</td> <td>    0.053</td>\n",
       "</tr>\n",
       "<tr>\n",
       "  <th>volatile acidity</th>     <td>   -1.1899</td> <td>    0.142</td> <td>   -8.354</td> <td> 0.000</td> <td>   -1.469</td> <td>   -0.910</td>\n",
       "</tr>\n",
       "<tr>\n",
       "  <th>citric acid</th>          <td>   -0.2557</td> <td>    0.178</td> <td>   -1.434</td> <td> 0.152</td> <td>   -0.606</td> <td>    0.094</td>\n",
       "</tr>\n",
       "<tr>\n",
       "  <th>residual sugar</th>       <td>   -0.0025</td> <td>    0.014</td> <td>   -0.178</td> <td> 0.859</td> <td>   -0.031</td> <td>    0.025</td>\n",
       "</tr>\n",
       "<tr>\n",
       "  <th>chlorides</th>            <td>   -1.5735</td> <td>    0.494</td> <td>   -3.182</td> <td> 0.002</td> <td>   -2.544</td> <td>   -0.603</td>\n",
       "</tr>\n",
       "<tr>\n",
       "  <th>free sulfur dioxide</th>  <td>    0.0067</td> <td>    0.003</td> <td>    2.530</td> <td> 0.012</td> <td>    0.001</td> <td>    0.012</td>\n",
       "</tr>\n",
       "<tr>\n",
       "  <th>total sulfur dioxide</th> <td>   -0.0040</td> <td>    0.001</td> <td>   -4.260</td> <td> 0.000</td> <td>   -0.006</td> <td>   -0.002</td>\n",
       "</tr>\n",
       "<tr>\n",
       "  <th>density</th>              <td>    4.3073</td> <td>    0.768</td> <td>    5.606</td> <td> 0.000</td> <td>    2.800</td> <td>    5.815</td>\n",
       "</tr>\n",
       "<tr>\n",
       "  <th>pH</th>                   <td>   -0.5074</td> <td>    0.196</td> <td>   -2.587</td> <td> 0.010</td> <td>   -0.892</td> <td>   -0.123</td>\n",
       "</tr>\n",
       "<tr>\n",
       "  <th>sulphates</th>            <td>    0.9424</td> <td>    0.133</td> <td>    7.109</td> <td> 0.000</td> <td>    0.682</td> <td>    1.203</td>\n",
       "</tr>\n",
       "<tr>\n",
       "  <th>alcohol</th>              <td>    0.3085</td> <td>    0.022</td> <td>   14.229</td> <td> 0.000</td> <td>    0.266</td> <td>    0.351</td>\n",
       "</tr>\n",
       "</table>\n",
       "<table class=\"simpletable\">\n",
       "<tr>\n",
       "  <th>Omnibus:</th>       <td>13.594</td> <th>  Durbin-Watson:     </th> <td>   2.099</td>\n",
       "</tr>\n",
       "<tr>\n",
       "  <th>Prob(Omnibus):</th> <td> 0.001</td> <th>  Jarque-Bera (JB):  </th> <td>  16.983</td>\n",
       "</tr>\n",
       "<tr>\n",
       "  <th>Skew:</th>          <td>-0.165</td> <th>  Prob(JB):          </th> <td>0.000205</td>\n",
       "</tr>\n",
       "<tr>\n",
       "  <th>Kurtosis:</th>      <td> 3.506</td> <th>  Cond. No.          </th> <td>2.41e+03</td>\n",
       "</tr>\n",
       "</table><br/><br/>Notes:<br/>[1] R² is computed without centering (uncentered) since the model does not contain a constant.<br/>[2] Standard Errors assume that the covariance matrix of the errors is correctly specified.<br/>[3] The condition number is large, 2.41e+03. This might indicate that there are<br/>strong multicollinearity or other numerical problems."
      ],
      "text/latex": [
       "\\begin{center}\n",
       "\\begin{tabular}{lclc}\n",
       "\\toprule\n",
       "\\textbf{Dep. Variable:}       &     quality      & \\textbf{  R-squared (uncentered):}      &     0.987   \\\\\n",
       "\\textbf{Model:}               &       OLS        & \\textbf{  Adj. R-squared (uncentered):} &     0.987   \\\\\n",
       "\\textbf{Method:}              &  Least Squares   & \\textbf{  F-statistic:       }          &     7512.   \\\\\n",
       "\\textbf{Date:}                & Sun, 14 Apr 2024 & \\textbf{  Prob (F-statistic):}          &     0.00    \\\\\n",
       "\\textbf{Time:}                &     16:51:00     & \\textbf{  Log-Likelihood:    }          &   -1115.2   \\\\\n",
       "\\textbf{No. Observations:}    &        1119      & \\textbf{  AIC:               }          &     2252.   \\\\\n",
       "\\textbf{Df Residuals:}        &        1108      & \\textbf{  BIC:               }          &     2308.   \\\\\n",
       "\\textbf{Df Model:}            &          11      & \\textbf{                     }          &             \\\\\n",
       "\\textbf{Covariance Type:}     &    nonrobust     & \\textbf{                     }          &             \\\\\n",
       "\\bottomrule\n",
       "\\end{tabular}\n",
       "\\begin{tabular}{lcccccc}\n",
       "                              & \\textbf{coef} & \\textbf{std err} & \\textbf{t} & \\textbf{P$> |$t$|$} & \\textbf{[0.025} & \\textbf{0.975]}  \\\\\n",
       "\\midrule\n",
       "\\textbf{fixed acidity}        &       0.0133  &        0.020     &     0.664  &         0.507        &       -0.026    &        0.053     \\\\\n",
       "\\textbf{volatile acidity}     &      -1.1899  &        0.142     &    -8.354  &         0.000        &       -1.469    &       -0.910     \\\\\n",
       "\\textbf{citric acid}          &      -0.2557  &        0.178     &    -1.434  &         0.152        &       -0.606    &        0.094     \\\\\n",
       "\\textbf{residual sugar}       &      -0.0025  &        0.014     &    -0.178  &         0.859        &       -0.031    &        0.025     \\\\\n",
       "\\textbf{chlorides}            &      -1.5735  &        0.494     &    -3.182  &         0.002        &       -2.544    &       -0.603     \\\\\n",
       "\\textbf{free sulfur dioxide}  &       0.0067  &        0.003     &     2.530  &         0.012        &        0.001    &        0.012     \\\\\n",
       "\\textbf{total sulfur dioxide} &      -0.0040  &        0.001     &    -4.260  &         0.000        &       -0.006    &       -0.002     \\\\\n",
       "\\textbf{density}              &       4.3073  &        0.768     &     5.606  &         0.000        &        2.800    &        5.815     \\\\\n",
       "\\textbf{pH}                   &      -0.5074  &        0.196     &    -2.587  &         0.010        &       -0.892    &       -0.123     \\\\\n",
       "\\textbf{sulphates}            &       0.9424  &        0.133     &     7.109  &         0.000        &        0.682    &        1.203     \\\\\n",
       "\\textbf{alcohol}              &       0.3085  &        0.022     &    14.229  &         0.000        &        0.266    &        0.351     \\\\\n",
       "\\bottomrule\n",
       "\\end{tabular}\n",
       "\\begin{tabular}{lclc}\n",
       "\\textbf{Omnibus:}       & 13.594 & \\textbf{  Durbin-Watson:     } &    2.099  \\\\\n",
       "\\textbf{Prob(Omnibus):} &  0.001 & \\textbf{  Jarque-Bera (JB):  } &   16.983  \\\\\n",
       "\\textbf{Skew:}          & -0.165 & \\textbf{  Prob(JB):          } & 0.000205  \\\\\n",
       "\\textbf{Kurtosis:}      &  3.506 & \\textbf{  Cond. No.          } & 2.41e+03  \\\\\n",
       "\\bottomrule\n",
       "\\end{tabular}\n",
       "%\\caption{OLS Regression Results}\n",
       "\\end{center}\n",
       "\n",
       "Notes: \\newline\n",
       " [1] R² is computed without centering (uncentered) since the model does not contain a constant. \\newline\n",
       " [2] Standard Errors assume that the covariance matrix of the errors is correctly specified. \\newline\n",
       " [3] The condition number is large, 2.41e+03. This might indicate that there are \\newline\n",
       " strong multicollinearity or other numerical problems."
      ],
      "text/plain": [
       "<class 'statsmodels.iolib.summary.Summary'>\n",
       "\"\"\"\n",
       "                                 OLS Regression Results                                \n",
       "=======================================================================================\n",
       "Dep. Variable:                quality   R-squared (uncentered):                   0.987\n",
       "Model:                            OLS   Adj. R-squared (uncentered):              0.987\n",
       "Method:                 Least Squares   F-statistic:                              7512.\n",
       "Date:                Sun, 14 Apr 2024   Prob (F-statistic):                        0.00\n",
       "Time:                        16:51:00   Log-Likelihood:                         -1115.2\n",
       "No. Observations:                1119   AIC:                                      2252.\n",
       "Df Residuals:                    1108   BIC:                                      2308.\n",
       "Df Model:                          11                                                  \n",
       "Covariance Type:            nonrobust                                                  \n",
       "========================================================================================\n",
       "                           coef    std err          t      P>|t|      [0.025      0.975]\n",
       "----------------------------------------------------------------------------------------\n",
       "fixed acidity            0.0133      0.020      0.664      0.507      -0.026       0.053\n",
       "volatile acidity        -1.1899      0.142     -8.354      0.000      -1.469      -0.910\n",
       "citric acid             -0.2557      0.178     -1.434      0.152      -0.606       0.094\n",
       "residual sugar          -0.0025      0.014     -0.178      0.859      -0.031       0.025\n",
       "chlorides               -1.5735      0.494     -3.182      0.002      -2.544      -0.603\n",
       "free sulfur dioxide      0.0067      0.003      2.530      0.012       0.001       0.012\n",
       "total sulfur dioxide    -0.0040      0.001     -4.260      0.000      -0.006      -0.002\n",
       "density                  4.3073      0.768      5.606      0.000       2.800       5.815\n",
       "pH                      -0.5074      0.196     -2.587      0.010      -0.892      -0.123\n",
       "sulphates                0.9424      0.133      7.109      0.000       0.682       1.203\n",
       "alcohol                  0.3085      0.022     14.229      0.000       0.266       0.351\n",
       "==============================================================================\n",
       "Omnibus:                       13.594   Durbin-Watson:                   2.099\n",
       "Prob(Omnibus):                  0.001   Jarque-Bera (JB):               16.983\n",
       "Skew:                          -0.165   Prob(JB):                     0.000205\n",
       "Kurtosis:                       3.506   Cond. No.                     2.41e+03\n",
       "==============================================================================\n",
       "\n",
       "Notes:\n",
       "[1] R² is computed without centering (uncentered) since the model does not contain a constant.\n",
       "[2] Standard Errors assume that the covariance matrix of the errors is correctly specified.\n",
       "[3] The condition number is large, 2.41e+03. This might indicate that there are\n",
       "strong multicollinearity or other numerical problems.\n",
       "\"\"\""
      ]
     },
     "execution_count": 26,
     "metadata": {},
     "output_type": "execute_result"
    }
   ],
   "source": [
    "########### ALL Together #####################\n",
    "# step-1: Import packages\n",
    "import numpy as np\n",
    "import pandas as pd \n",
    "import matplotlib.pyplot as plt \n",
    "import seaborn as sns \n",
    "import warnings\n",
    "warnings.filterwarnings('ignore')\n",
    "\n",
    "# step-2: Read the data\n",
    "path=r'C:\\Users\\91851\\OneDrive\\data science\\Data Files\\winequality_red.csv'\n",
    "df=pd.read_csv(path)\n",
    "\n",
    "# step-3(optional): if you are seeing any duplicates \n",
    "#            or data has empty rows when you resad it display as Null or NaN\n",
    "#            if you are seeing this check it is really a missing values\n",
    "#            or data has empty rows (alternative rows)\n",
    "df.dropna (inplace=True)\n",
    "df.reset_index(inplace=True)\n",
    "\n",
    "##################### EDA ###############################\n",
    "# Numerical data should be ready before go to the step-4\n",
    "########################################################\n",
    "\n",
    "# step-4: Divide into x and y\n",
    "df.drop('quality',axis=1)\n",
    "y=df['quality']\n",
    "\n",
    "# Step:5: Train Test Split\n",
    "from sklearn.model_selection import train_test_split\n",
    "x_train, x_test, y_train, y_test=train_test_split(x,\n",
    "                                                 y,\n",
    "                                                 random_state=1234,\n",
    "                                                 test_size=0.30)\n",
    "\n",
    "from statsmodels.api import OLS\n",
    "OLS(y_train,x_train).fit().summary()"
   ]
  },
  {
   "cell_type": "markdown",
   "id": "04182acb",
   "metadata": {},
   "source": [
    "**Method-4**\n",
    "\n",
    "$VIF$"
   ]
  },
  {
   "cell_type": "code",
   "execution_count": 27,
   "id": "3bf1f662",
   "metadata": {},
   "outputs": [
    {
     "name": "stdout",
     "output_type": "stream",
     "text": [
      "  festure          VIF\n",
      "0      x1   714.651098\n",
      "1      x2  1314.845480\n",
      "2      x3     1.055455\n",
      "3      x4  2122.385491\n"
     ]
    }
   ],
   "source": [
    "import pandas as pd\n",
    "import numpy as np\n",
    "import statsmodels.api as sm\n",
    "from statsmodels.stats.outliers_influence import variance_inflation_factor\n",
    "\n",
    "# sample data\n",
    "data={\n",
    "    'x1':np.random.randn(100),\n",
    "    'x2':np.random.randn(100),\n",
    "    'x3':np.random.randn(100)\n",
    "}\n",
    "\n",
    "df=pd.DataFrame(data)\n",
    "\n",
    "# Adding a multicollinear variable\n",
    "df['x4']=2*df['x1'] + 3*df['x2'] + np.random.normal(0,0.1,100)\n",
    "\n",
    "# Fit a multiple regression model\n",
    "x = df[['x1', 'x2', 'x3', 'x4']]\n",
    "y = np.random.randn(100)\n",
    "model=sm.OLS(y, sm.add_constant(x)).fit()\n",
    "\n",
    "# Calculate VIF\n",
    "vif_data = pd.DataFrame()\n",
    "vif_data['festure']=x.columns\n",
    "vif_data['VIF'] = [variance_inflation_factor(x.values, i) for i in range(len(x.columns))]\n",
    "\n",
    "print(vif_data)"
   ]
  },
  {
   "cell_type": "code",
   "execution_count": 28,
   "id": "59babb09",
   "metadata": {},
   "outputs": [
    {
     "data": {
      "text/html": [
       "<table class=\"simpletable\">\n",
       "<caption>OLS Regression Results</caption>\n",
       "<tr>\n",
       "  <th>Dep. Variable:</th>            <td>y</td>        <th>  R-squared:         </th> <td>   0.032</td>\n",
       "</tr>\n",
       "<tr>\n",
       "  <th>Model:</th>                   <td>OLS</td>       <th>  Adj. R-squared:    </th> <td>  -0.008</td>\n",
       "</tr>\n",
       "<tr>\n",
       "  <th>Method:</th>             <td>Least Squares</td>  <th>  F-statistic:       </th> <td>  0.7919</td>\n",
       "</tr>\n",
       "<tr>\n",
       "  <th>Date:</th>             <td>Sun, 14 Apr 2024</td> <th>  Prob (F-statistic):</th>  <td> 0.533</td> \n",
       "</tr>\n",
       "<tr>\n",
       "  <th>Time:</th>                 <td>17:03:42</td>     <th>  Log-Likelihood:    </th> <td> -125.55</td>\n",
       "</tr>\n",
       "<tr>\n",
       "  <th>No. Observations:</th>      <td>   100</td>      <th>  AIC:               </th> <td>   261.1</td>\n",
       "</tr>\n",
       "<tr>\n",
       "  <th>Df Residuals:</th>          <td>    95</td>      <th>  BIC:               </th> <td>   274.1</td>\n",
       "</tr>\n",
       "<tr>\n",
       "  <th>Df Model:</th>              <td>     4</td>      <th>                     </th>     <td> </td>   \n",
       "</tr>\n",
       "<tr>\n",
       "  <th>Covariance Type:</th>      <td>nonrobust</td>    <th>                     </th>     <td> </td>   \n",
       "</tr>\n",
       "</table>\n",
       "<table class=\"simpletable\">\n",
       "<tr>\n",
       "    <td></td>       <th>coef</th>     <th>std err</th>      <th>t</th>      <th>P>|t|</th>  <th>[0.025</th>    <th>0.975]</th>  \n",
       "</tr>\n",
       "<tr>\n",
       "  <th>const</th> <td>   -0.0047</td> <td>    0.092</td> <td>   -0.051</td> <td> 0.960</td> <td>   -0.187</td> <td>    0.178</td>\n",
       "</tr>\n",
       "<tr>\n",
       "  <th>x1</th>    <td>   -0.4608</td> <td>    2.158</td> <td>   -0.213</td> <td> 0.831</td> <td>   -4.746</td> <td>    3.824</td>\n",
       "</tr>\n",
       "<tr>\n",
       "  <th>x2</th>    <td>   -0.9205</td> <td>    3.244</td> <td>   -0.284</td> <td> 0.777</td> <td>   -7.361</td> <td>    5.520</td>\n",
       "</tr>\n",
       "<tr>\n",
       "  <th>x3</th>    <td>    0.0124</td> <td>    0.082</td> <td>    0.150</td> <td> 0.881</td> <td>   -0.151</td> <td>    0.176</td>\n",
       "</tr>\n",
       "<tr>\n",
       "  <th>x4</th>    <td>    0.3046</td> <td>    1.082</td> <td>    0.282</td> <td> 0.779</td> <td>   -1.843</td> <td>    2.452</td>\n",
       "</tr>\n",
       "</table>\n",
       "<table class=\"simpletable\">\n",
       "<tr>\n",
       "  <th>Omnibus:</th>       <td> 4.763</td> <th>  Durbin-Watson:     </th> <td>   2.103</td>\n",
       "</tr>\n",
       "<tr>\n",
       "  <th>Prob(Omnibus):</th> <td> 0.092</td> <th>  Jarque-Bera (JB):  </th> <td>   2.577</td>\n",
       "</tr>\n",
       "<tr>\n",
       "  <th>Skew:</th>          <td>-0.132</td> <th>  Prob(JB):          </th> <td>   0.276</td>\n",
       "</tr>\n",
       "<tr>\n",
       "  <th>Kurtosis:</th>      <td> 2.259</td> <th>  Cond. No.          </th> <td>    179.</td>\n",
       "</tr>\n",
       "</table><br/><br/>Notes:<br/>[1] Standard Errors assume that the covariance matrix of the errors is correctly specified."
      ],
      "text/latex": [
       "\\begin{center}\n",
       "\\begin{tabular}{lclc}\n",
       "\\toprule\n",
       "\\textbf{Dep. Variable:}    &        y         & \\textbf{  R-squared:         } &     0.032   \\\\\n",
       "\\textbf{Model:}            &       OLS        & \\textbf{  Adj. R-squared:    } &    -0.008   \\\\\n",
       "\\textbf{Method:}           &  Least Squares   & \\textbf{  F-statistic:       } &    0.7919   \\\\\n",
       "\\textbf{Date:}             & Sun, 14 Apr 2024 & \\textbf{  Prob (F-statistic):} &    0.533    \\\\\n",
       "\\textbf{Time:}             &     17:03:42     & \\textbf{  Log-Likelihood:    } &   -125.55   \\\\\n",
       "\\textbf{No. Observations:} &         100      & \\textbf{  AIC:               } &     261.1   \\\\\n",
       "\\textbf{Df Residuals:}     &          95      & \\textbf{  BIC:               } &     274.1   \\\\\n",
       "\\textbf{Df Model:}         &           4      & \\textbf{                     } &             \\\\\n",
       "\\textbf{Covariance Type:}  &    nonrobust     & \\textbf{                     } &             \\\\\n",
       "\\bottomrule\n",
       "\\end{tabular}\n",
       "\\begin{tabular}{lcccccc}\n",
       "               & \\textbf{coef} & \\textbf{std err} & \\textbf{t} & \\textbf{P$> |$t$|$} & \\textbf{[0.025} & \\textbf{0.975]}  \\\\\n",
       "\\midrule\n",
       "\\textbf{const} &      -0.0047  &        0.092     &    -0.051  &         0.960        &       -0.187    &        0.178     \\\\\n",
       "\\textbf{x1}    &      -0.4608  &        2.158     &    -0.213  &         0.831        &       -4.746    &        3.824     \\\\\n",
       "\\textbf{x2}    &      -0.9205  &        3.244     &    -0.284  &         0.777        &       -7.361    &        5.520     \\\\\n",
       "\\textbf{x3}    &       0.0124  &        0.082     &     0.150  &         0.881        &       -0.151    &        0.176     \\\\\n",
       "\\textbf{x4}    &       0.3046  &        1.082     &     0.282  &         0.779        &       -1.843    &        2.452     \\\\\n",
       "\\bottomrule\n",
       "\\end{tabular}\n",
       "\\begin{tabular}{lclc}\n",
       "\\textbf{Omnibus:}       &  4.763 & \\textbf{  Durbin-Watson:     } &    2.103  \\\\\n",
       "\\textbf{Prob(Omnibus):} &  0.092 & \\textbf{  Jarque-Bera (JB):  } &    2.577  \\\\\n",
       "\\textbf{Skew:}          & -0.132 & \\textbf{  Prob(JB):          } &    0.276  \\\\\n",
       "\\textbf{Kurtosis:}      &  2.259 & \\textbf{  Cond. No.          } &     179.  \\\\\n",
       "\\bottomrule\n",
       "\\end{tabular}\n",
       "%\\caption{OLS Regression Results}\n",
       "\\end{center}\n",
       "\n",
       "Notes: \\newline\n",
       " [1] Standard Errors assume that the covariance matrix of the errors is correctly specified."
      ],
      "text/plain": [
       "<class 'statsmodels.iolib.summary.Summary'>\n",
       "\"\"\"\n",
       "                            OLS Regression Results                            \n",
       "==============================================================================\n",
       "Dep. Variable:                      y   R-squared:                       0.032\n",
       "Model:                            OLS   Adj. R-squared:                 -0.008\n",
       "Method:                 Least Squares   F-statistic:                    0.7919\n",
       "Date:                Sun, 14 Apr 2024   Prob (F-statistic):              0.533\n",
       "Time:                        17:03:42   Log-Likelihood:                -125.55\n",
       "No. Observations:                 100   AIC:                             261.1\n",
       "Df Residuals:                      95   BIC:                             274.1\n",
       "Df Model:                           4                                         \n",
       "Covariance Type:            nonrobust                                         \n",
       "==============================================================================\n",
       "                 coef    std err          t      P>|t|      [0.025      0.975]\n",
       "------------------------------------------------------------------------------\n",
       "const         -0.0047      0.092     -0.051      0.960      -0.187       0.178\n",
       "x1            -0.4608      2.158     -0.213      0.831      -4.746       3.824\n",
       "x2            -0.9205      3.244     -0.284      0.777      -7.361       5.520\n",
       "x3             0.0124      0.082      0.150      0.881      -0.151       0.176\n",
       "x4             0.3046      1.082      0.282      0.779      -1.843       2.452\n",
       "==============================================================================\n",
       "Omnibus:                        4.763   Durbin-Watson:                   2.103\n",
       "Prob(Omnibus):                  0.092   Jarque-Bera (JB):                2.577\n",
       "Skew:                          -0.132   Prob(JB):                        0.276\n",
       "Kurtosis:                       2.259   Cond. No.                         179.\n",
       "==============================================================================\n",
       "\n",
       "Notes:\n",
       "[1] Standard Errors assume that the covariance matrix of the errors is correctly specified.\n",
       "\"\"\""
      ]
     },
     "execution_count": 28,
     "metadata": {},
     "output_type": "execute_result"
    }
   ],
   "source": [
    "model.summary()"
   ]
  },
  {
   "cell_type": "code",
   "execution_count": 29,
   "id": "1f08e88b",
   "metadata": {},
   "outputs": [],
   "source": [
    "import pandas as pd\n",
    "import matplotlib.pyplot as plt\n",
    "import seaborn as sns\n",
    "import warnings\n",
    "warnings.filterwarnings('ignore')\n",
    "\n",
    "# step-2: Read the data\n",
    "path=r'C:\\Users\\91851\\OneDrive\\data science\\Data Files\\winequality_red.csv'\n",
    "df=pd.read_csv(path)\n",
    "\n",
    "\n",
    "#Step-3(optional): If you are seeing any duplicates\n",
    "#         or data has empty rows when you read it display as Null or Nan\n",
    "#         if you are seeing this check it is really a missing values\n",
    "#         or data has empty rows (alternative rows)\n",
    "df.dropna(inplace=True)\n",
    "df.reset_index(inplace=True)\n",
    "\n",
    "################### EDA ###################################\n",
    "# Numerical data should be ready before go to the step-4\n",
    "##########################################################\n",
    "\n",
    "#Step-4: Divide into x and y\n",
    "x=df.drop('quality',axis=1)\n",
    "y=df['quality']"
   ]
  },
  {
   "cell_type": "code",
   "execution_count": 30,
   "id": "ad487da8",
   "metadata": {},
   "outputs": [
    {
     "data": {
      "text/plain": [
       "(array([[0.000e+00, 7.400e+00, 7.000e-01, ..., 3.510e+00, 5.600e-01,\n",
       "         9.400e+00],\n",
       "        [1.000e+00, 7.800e+00, 8.800e-01, ..., 3.200e+00, 6.800e-01,\n",
       "         9.800e+00],\n",
       "        [2.000e+00, 7.800e+00, 7.600e-01, ..., 3.260e+00, 6.500e-01,\n",
       "         9.800e+00],\n",
       "        ...,\n",
       "        [1.596e+03, 6.300e+00, 5.100e-01, ..., 3.420e+00, 7.500e-01,\n",
       "         1.100e+01],\n",
       "        [1.597e+03, 5.900e+00, 6.450e-01, ..., 3.570e+00, 7.100e-01,\n",
       "         1.020e+01],\n",
       "        [1.598e+03, 6.000e+00, 3.100e-01, ..., 3.390e+00, 6.600e-01,\n",
       "         1.100e+01]]),\n",
       " 2)"
      ]
     },
     "execution_count": 30,
     "metadata": {},
     "output_type": "execute_result"
    }
   ],
   "source": [
    "x.values,2"
   ]
  },
  {
   "cell_type": "code",
   "execution_count": null,
   "id": "77023846",
   "metadata": {},
   "outputs": [],
   "source": [
    "variance_inflation_factor(x.values,0)\n",
    "# x.values ====== all the columns data\n",
    "# VIF one column o/p = input\n",
    "VIF(data,which column)"
   ]
  },
  {
   "cell_type": "code",
   "execution_count": 32,
   "id": "d54b1770",
   "metadata": {},
   "outputs": [
    {
     "name": "stdout",
     "output_type": "stream",
     "text": [
      "                 feature          VIF\n",
      "0                  index     5.054246\n",
      "1          fixed acidity    80.338968\n",
      "2       volatile acidity    17.065205\n",
      "3            citric acid     9.197695\n",
      "4         residual sugar     4.663513\n",
      "5              chlorides     6.573395\n",
      "6    free sulfur dioxide     6.781651\n",
      "7   total sulfur dioxide     6.916574\n",
      "8                density  1551.937829\n",
      "9                     pH  1109.622836\n",
      "10             sulphates    21.844623\n",
      "11               alcohol   130.707581\n"
     ]
    }
   ],
   "source": [
    "# Calculate VIF\n",
    "import pandas as pd\n",
    "import numpy as np\n",
    "import statsmodels.api as sm\n",
    "from statsmodels.stats.outliers_influence import variance_inflation_factor\n",
    "\n",
    "vif_data = pd.DataFrame()\n",
    "vif_data[\"feature\"] = x.columns\n",
    "vif_data['VIF'] = [variance_inflation_factor(x.values, i) for i in range(len(x.columns))]\n",
    "\n",
    "print(vif_data)"
   ]
  },
  {
   "cell_type": "code",
   "execution_count": null,
   "id": "f62ea647",
   "metadata": {},
   "outputs": [],
   "source": []
  },
  {
   "cell_type": "code",
   "execution_count": null,
   "id": "d237eebd",
   "metadata": {},
   "outputs": [],
   "source": []
  },
  {
   "cell_type": "code",
   "execution_count": null,
   "id": "fec5c62f",
   "metadata": {},
   "outputs": [],
   "source": []
  },
  {
   "cell_type": "code",
   "execution_count": null,
   "id": "f30de54a",
   "metadata": {},
   "outputs": [],
   "source": []
  },
  {
   "cell_type": "code",
   "execution_count": null,
   "id": "e523437f",
   "metadata": {},
   "outputs": [],
   "source": []
  },
  {
   "cell_type": "code",
   "execution_count": null,
   "id": "f190b649",
   "metadata": {},
   "outputs": [],
   "source": []
  },
  {
   "cell_type": "code",
   "execution_count": null,
   "id": "fa2cae01",
   "metadata": {},
   "outputs": [],
   "source": []
  },
  {
   "cell_type": "code",
   "execution_count": null,
   "id": "5de08221",
   "metadata": {},
   "outputs": [],
   "source": []
  },
  {
   "cell_type": "code",
   "execution_count": null,
   "id": "50a68249",
   "metadata": {},
   "outputs": [],
   "source": []
  },
  {
   "cell_type": "code",
   "execution_count": null,
   "id": "335c96d1",
   "metadata": {},
   "outputs": [],
   "source": []
  },
  {
   "cell_type": "code",
   "execution_count": null,
   "id": "6a5c2a57",
   "metadata": {},
   "outputs": [],
   "source": []
  }
 ],
 "metadata": {
  "kernelspec": {
   "display_name": "Python 3 (ipykernel)",
   "language": "python",
   "name": "python3"
  },
  "language_info": {
   "codemirror_mode": {
    "name": "ipython",
    "version": 3
   },
   "file_extension": ".py",
   "mimetype": "text/x-python",
   "name": "python",
   "nbconvert_exporter": "python",
   "pygments_lexer": "ipython3",
   "version": "3.11.5"
  }
 },
 "nbformat": 4,
 "nbformat_minor": 5
}
